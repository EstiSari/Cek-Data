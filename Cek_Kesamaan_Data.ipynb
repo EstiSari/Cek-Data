{
  "nbformat": 4,
  "nbformat_minor": 0,
  "metadata": {
    "colab": {
      "provenance": [],
      "authorship_tag": "ABX9TyMwcHllJHkTwejrynJGIPx8",
      "include_colab_link": true
    },
    "kernelspec": {
      "name": "python3",
      "display_name": "Python 3"
    },
    "language_info": {
      "name": "python"
    }
  },
  "cells": [
    {
      "cell_type": "markdown",
      "metadata": {
        "id": "view-in-github",
        "colab_type": "text"
      },
      "source": [
        "<a href=\"https://colab.research.google.com/github/EstiSari/Cek-Data/blob/main/Cek_Kesamaan_Data.ipynb\" target=\"_parent\"><img src=\"https://colab.research.google.com/assets/colab-badge.svg\" alt=\"Open In Colab\"/></a>"
      ]
    },
    {
      "cell_type": "code",
      "execution_count": null,
      "metadata": {
        "colab": {
          "base_uri": "https://localhost:8080/"
        },
        "id": "P7n2BfhGUT0j",
        "outputId": "7afc5432-1b18-43e6-e230-ddcd109e6a39"
      },
      "outputs": [
        {
          "output_type": "stream",
          "name": "stdout",
          "text": [
            "Data dari file1.xlsx:\n",
            "             nospb\n",
            "0   BJSMA524719460\n",
            "1   BJSMA524719458\n",
            "2   BJSMA524719471\n",
            "3   BJSMA524719482\n",
            "4   BJSMA524719470\n",
            "5   BJSMA524719461\n",
            "6   BJSMA524719492\n",
            "7   BJSMA524719479\n",
            "8   BJSMA524719488\n",
            "9   BJSMA524719486\n",
            "10  BJSMA524719495\n",
            "11  BJSMA524719489\n",
            "12  BJSMA524719516\n",
            "13  BJSMA524719515\n",
            "14  BJSMA524719513\n",
            "15  BJSMA524719493\n",
            "16  BJSMA524719512\n",
            "17  BJSMA524719463\n",
            "18  BJSMA524719523\n",
            "19  BJSMA524719541\n",
            "20  BJSMA524719507\n",
            "21  BJSMA524719509\n",
            "22  BJSMA524719508\n",
            "23  BJSMA524719532\n",
            "24  BJSMA524719542\n",
            "25  BJSMA524719547\n",
            "26  BJSMA524719548\n",
            "\n",
            "Data dari file2.xlsx:\n",
            "                             nospb\n",
            "0   BJSMA523700059                \n",
            "1   BJSMA523700058                \n",
            "2   BJSMA523700015                \n",
            "3   BJSMA523700002                \n",
            "4   BJSMA523700069                \n",
            "5   BJSMA523700028                \n",
            "6   BJSMA523700009                \n",
            "7   BJSMA523700021                \n",
            "8   BJSMA523700022                \n",
            "9   BJSMA523700026                \n",
            "10  BJSMA523700036                \n",
            "11  BJSMA523700048                \n",
            "12  BJSMA523700050                \n",
            "13  BJSMA523700073                \n",
            "14  BJSMA523700074                \n",
            "15  BJSMA523700103                \n",
            "16  BJSMA523700108                \n",
            "17  BJSMA523700164                \n",
            "18  BJSMA523700160                \n",
            "19  BJSMA523700170                \n",
            "20  BJSMA523700076                \n",
            "21  BJSMA523700088                \n",
            "22  BJSMA523700090                \n",
            "23  BJSMA523700098                \n",
            "24  BJSMA523700110                \n",
            "25  BJSMA523700120                \n",
            "26  BJSMA523700125                \n",
            "27  BJSMA523700133                \n",
            "28  BJSMA523700147                \n",
            "29  BJSMA523700151                \n",
            "30  BJSMA523700 184               \n",
            "31  BJSMA523700075                \n",
            "32  BJSMA523700078                \n",
            "33  BJSMA523700079                \n",
            "34  BJSMA523700077                \n",
            "35  BJSMA523700096                \n",
            "36  BJSMA523700181                \n",
            "37  BJSMA523700143                \n",
            "38  BJSMA523700148                \n",
            "39  BJSMA523700144                \n",
            "\n",
            "Tidak ada data yang sama di kedua file.\n"
          ]
        }
      ],
      "source": [
        "import pandas as pd\n",
        "\n",
        "try:\n",
        "    # Membaca data dari file Excel\n",
        "    df1 = pd.read_excel('/content/file1.xlsx', sheet_name='Sheet1')\n",
        "    df2 = pd.read_excel('/content/file2.xlsx', sheet_name='Sheet1')\n",
        "\n",
        "    # Tampilkan beberapa baris pertama dari setiap DataFrame untuk memastikan data terbaca dengan benar\n",
        "    print(\"Data dari file1.xlsx:\")\n",
        "    print(df1.head(40))\n",
        "    print(\"\\nData dari file2.xlsx:\")\n",
        "    print(df2.head(40))\n",
        "\n",
        "    # Menghapus spasi dari kolom yang akan dibandingkan\n",
        "    #df1['invoice'] = df1['invoice'].astype(str).str.replace(' ', '', regex=True)\n",
        "    df1['nospb'] = df1['nospb'].astype(str).str.replace(' ', '', regex=True)\n",
        "    #df1['kolom3'] = df1['kolom3'].astype(str).str.replace(' ', '', regex=True)\n",
        "\n",
        "\n",
        "    #df2['invoice'] = df2['invoice'].astype(str).str.replace(' ', '', regex=True)\n",
        "    df2['nospb'] = df2['nospb'].astype(str).str.replace(' ', '', regex=True)\n",
        "   # df2['kolom3_2'] = df2['kolom3_2'].astype(str).str.replace(' ', '', regex=True)\n",
        "\n",
        "    # Gabungkan data berdasarkan kolom yang akan dibandingkan\n",
        "    merged_df = pd.merge(df1, df2, left_on=['nospb'], right_on=['nospb'], how='inner')\n",
        "\n",
        "    # Tampilkan hasil jika ada data yang sama, jika tidak ada berikan pesan\n",
        "    if not merged_df.empty:\n",
        "        print(\"\\nData yang sama ditemukan di kedua file:\")\n",
        "        print(merged_df)\n",
        "\n",
        "        # Menyimpan hasil pencarian ke file Excel baru\n",
        "        merged_df.to_excel('common_data.xlsx', index=False)\n",
        "        print(\"\\nHasil pencarian telah disimpan di 'common_data.xlsx'.\")\n",
        "    else:\n",
        "        print(\"\\nTidak ada data yang sama di kedua file.\")\n",
        "\n",
        "except FileNotFoundError as e:\n",
        "    print(f\"Error: {e}\")\n",
        "except Exception as e:\n",
        "    print(f\"Terjadi kesalahan: {e}\")\n"
      ]
    }
  ]
}